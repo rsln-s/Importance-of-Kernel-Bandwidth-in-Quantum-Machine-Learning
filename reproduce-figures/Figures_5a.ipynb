{
 "cells": [
  {
   "cell_type": "code",
   "execution_count": 8,
   "id": "happy-screw",
   "metadata": {},
   "outputs": [],
   "source": [
    "import sys\n",
    "import numpy as np\n",
    "\n",
    "sys.path.append('../code')\n",
    "from utils import get_dataset"
   ]
  },
  {
   "cell_type": "code",
   "execution_count": 9,
   "id": "genetic-subject",
   "metadata": {},
   "outputs": [],
   "source": [
    "x_train, x_test, y_train, y_test = get_dataset('fashion-mnist', 20, 800, 200)"
   ]
  },
  {
   "cell_type": "markdown",
   "id": "jewish-danish",
   "metadata": {},
   "source": [
    "# Get optimal parameters using K-fold cross-validation"
   ]
  },
  {
   "cell_type": "code",
   "execution_count": 10,
   "id": "studied-sense",
   "metadata": {},
   "outputs": [
    {
     "name": "stdout",
     "output_type": "stream",
     "text": [
      "Best score: 0.945\n",
      "Test score: 0.9055555555555556\n"
     ]
    }
   ],
   "source": [
    "from sklearn.model_selection import StratifiedKFold, GridSearchCV\n",
    "from sklearn.metrics import balanced_accuracy_score\n",
    "from sklearn.svm import SVC\n",
    "\n",
    "scale_gamma = 800 * np.var(x_train)\n",
    "\n",
    "skf = StratifiedKFold(n_splits=5, shuffle=True, random_state=42)\n",
    "param_grid = [\n",
    "    {\n",
    "        'C': [0.006, 0.015, 0.03, 0.0625, 0.125, 0.25, 0.5, 1.0, 2.0, 4.0, 8.0, 16.0, 32.0, 64.0, 128.0, 256, 512, 1024], \n",
    "        'gamma': [x / scale_gamma for x in [0.25, 0.5, 1.0, 2.0, 3.0, 4.0, 5.0, 20.0, 50, 100, 200, 500, 1000, 5000, 10000]], \n",
    "        'kernel': ['rbf']\n",
    "    },\n",
    "]\n",
    "\n",
    "svc = SVC()\n",
    "clf =  GridSearchCV(svc, param_grid)\n",
    "clf.fit(x_train, y_train)\n",
    "print(f\"Best score: {clf.best_score_}\")\n",
    "\n",
    "y_pred_cl = clf.predict(x_test)\n",
    "\n",
    "print(f\"Test score: {balanced_accuracy_score(y_pred_cl,y_test)}\")"
   ]
  },
  {
   "cell_type": "code",
   "execution_count": 11,
   "id": "interstate-italian",
   "metadata": {},
   "outputs": [
    {
     "name": "stdout",
     "output_type": "stream",
     "text": [
      "{'C': 8.0, 'gamma': 0.1494365632147676, 'kernel': 'rbf'}\n"
     ]
    }
   ],
   "source": [
    "print(clf.best_params_)"
   ]
  },
  {
   "cell_type": "markdown",
   "id": "equivalent-courage",
   "metadata": {},
   "source": [
    "### Fix C to be optimal and vary gamma"
   ]
  },
  {
   "cell_type": "code",
   "execution_count": 12,
   "id": "classical-meaning",
   "metadata": {},
   "outputs": [],
   "source": [
    "params = {'C': 8.0, 'kernel': 'rbf'}\n",
    "\n",
    "scale_gamma = 1000 * np.var(x_train)\n",
    "\n",
    "gammas = []\n",
    "train_scores = []\n",
    "val_scores = []\n",
    "ns_support = []\n",
    "\n",
    "for gamma in np.logspace(-6,1,100):\n",
    "    svc = SVC(gamma=gamma, **params)\n",
    "    svc.fit(x_train, y_train)\n",
    "    y_pred_train = svc.predict(x_train)\n",
    "    train_score = balanced_accuracy_score(y_train,y_pred_train)\n",
    "    n_support = svc.n_support_\n",
    "    y_pred_cl = svc.predict(x_test)\n",
    "\n",
    "    val_score = balanced_accuracy_score(y_test,y_pred_cl)\n",
    "    gammas.append(gamma)\n",
    "    val_scores.append(val_score)\n",
    "    train_scores.append(train_score)\n",
    "    ns_support.append(np.mean(n_support))"
   ]
  },
  {
   "cell_type": "code",
   "execution_count": 16,
   "id": "random-sarah",
   "metadata": {},
   "outputs": [
    {
     "data": {
      "image/png": "[encoded data removed]",
      "text/plain": [
       "<Figure size 181.349x181.349 with 1 Axes>"
      ]
     },
     "metadata": {
      "needs_background": "light"
     },
     "output_type": "display_data"
    }
   ],
   "source": [
    "import matplotlib.pyplot as plt\n",
    "import seaborn as sns\n",
    "\n",
    "from matplotlib import rc\n",
    "# rc('font',**{'family':'sans-serif','sans-serif':['Helvetica']})\n",
    "rc('font',**{'family':'serif','serif':['Times']})\n",
    "rc('text', usetex=True)\n",
    "\n",
    "f, ax=plt.subplots(figsize=(2*6.92654/5.5, 2*6.92654/5.5))\n",
    "ax.xaxis.set_tick_params(labelsize=12)\n",
    "ax.yaxis.set_tick_params(labelsize=12)\n",
    "\n",
    "plt.plot(gammas, train_scores,label='Train',c=sns.color_palette(\"muted\")[0], linestyle='dashed')\n",
    "plt.plot(gammas, val_scores,label='Test',c=sns.color_palette(\"muted\")[0])\n",
    "\n",
    "plt.axhline(y=0.5, color='k', linestyle='dashed', label='Random', linewidth=2.5)\n",
    "\n",
    "plt.ylabel('Accuracy', fontsize=12)\n",
    "plt.xlabel(r'$\\gamma$', fontsize=12)\n",
    "plt.xscale('log')\n",
    "plt.legend(loc='lower center', bbox_to_anchor=(0.49, 0.03), fontsize=12)\n",
    "plt.grid()\n",
    "plt.tight_layout()\n",
    "plt.savefig('rbf_test_score_vs_gamma.pdf')"
   ]
  },
  {
   "cell_type": "code",
   "execution_count": 18,
   "id": "executive-framework",
   "metadata": {},
   "outputs": [
    {
     "data": {
      "image/png": "[encoded data removed]",
      "text/plain": [
       "<Figure size 181.349x181.349 with 1 Axes>"
      ]
     },
     "metadata": {
      "needs_background": "light"
     },
     "output_type": "display_data"
    }
   ],
   "source": [
    "\n",
    "f, ax=plt.subplots(figsize=(2*6.92654/5.5, 2*6.92654/5.5))\n",
    "ax.xaxis.set_tick_params(labelsize=12)\n",
    "ax.yaxis.set_tick_params(labelsize=12)\n",
    "\n",
    "plt.plot(gammas, ns_support,c=sns.color_palette(\"muted\")[0])\n",
    "plt.ylabel('Average number of support vectors')\n",
    "plt.xlabel(r'$\\gamma$', fontsize=12)\n",
    "plt.xscale('log')\n",
    "plt.grid()\n",
    "plt.tight_layout()\n",
    "\n",
    "plt.savefig('rbf_nsupport_vs_gamma.pdf')"
   ]
  },
  {
   "cell_type": "code",
   "execution_count": null,
   "id": "jewish-choice",
   "metadata": {},
   "outputs": [],
   "source": []
  }
 ],
 "metadata": {
  "kernelspec": {
   "display_name": "Python 3",
   "language": "python",
   "name": "python3"
  },
  "language_info": {
   "codemirror_mode": {
    "name": "ipython",
    "version": 3
   },
   "file_extension": ".py",
   "mimetype": "text/x-python",
   "name": "python",
   "nbconvert_exporter": "python",
   "pygments_lexer": "ipython3",
   "version": "3.8.8"
  }
 },
 "nbformat": 4,
 "nbformat_minor": 5
}
